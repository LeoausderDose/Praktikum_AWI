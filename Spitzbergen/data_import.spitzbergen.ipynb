{
 "cells": [
  {
   "cell_type": "markdown",
   "metadata": {},
   "source": [
    "# Data Spitzbergen"
   ]
  },
  {
   "cell_type": "code",
   "execution_count": 40,
   "metadata": {},
   "outputs": [],
   "source": [
    "import numpy as np\n",
    "import pandas as pd\n",
    "import matplotlib.pyplot as plt\n",
    "from datetime import datetime"
   ]
  },
  {
   "cell_type": "code",
   "execution_count": 41,
   "metadata": {},
   "outputs": [],
   "source": [
    "import matplotlib.pyplot as plt\n",
    "\n",
    "# Customize the default plotting style\n",
    "plt.rcParams['figure.figsize'] = (8, 6)  # Set the default figure size\n",
    "plt.rcParams['axes.labelsize'] = 14      # Set the default label font size\n",
    "plt.rcParams['axes.titlesize'] = 16      # Set the default title font size\n",
    "plt.rcParams['xtick.labelsize'] = 12     # Set the default x-axis tick font size\n",
    "plt.rcParams['ytick.labelsize'] = 12     # Set the default y-axis tick font size\n",
    "plt.rcParams['lines.linewidth'] = 2.0    # Set the default line width\n",
    "plt.rcParams['lines.markersize'] = 8     # Set the default marker size\n",
    "plt.rcParams['legend.fontsize'] = 12     # Set the default legend font size\n",
    "plt.rcParams['axes.grid'] = True         # Enable grid lines by default\n",
    "\n",
    "# Now, all subsequent plots in your script will use these settings\n"
   ]
  },
  {
   "cell_type": "code",
   "execution_count": 42,
   "metadata": {},
   "outputs": [],
   "source": [
    "df = pd.read_csv('data/NYA_cont-meteorology_2011-08_etseq/datasets/NYA_cont_meteorology_2012-09.tab', sep='\\t', skiprows= range(21))\n",
    "df['Date/Time'] = pd.to_datetime(df['Date/Time'])"
   ]
  },
  {
   "cell_type": "code",
   "execution_count": 43,
   "metadata": {},
   "outputs": [
    {
     "data": {
      "text/plain": [
       "pandas._libs.tslibs.timestamps.Timestamp"
      ]
     },
     "execution_count": 43,
     "metadata": {},
     "output_type": "execute_result"
    }
   ],
   "source": [
    "type(df.iloc[1,0])\n"
   ]
  },
  {
   "cell_type": "code",
   "execution_count": 44,
   "metadata": {},
   "outputs": [
    {
     "data": {
      "text/plain": [
       "(array([15584., 15588., 15592., 15596., 15600., 15604., 15608., 15612.,\n",
       "        15614.]),\n",
       " [Text(0, 0, ''),\n",
       "  Text(0, 0, ''),\n",
       "  Text(0, 0, ''),\n",
       "  Text(0, 0, ''),\n",
       "  Text(0, 0, ''),\n",
       "  Text(0, 0, ''),\n",
       "  Text(0, 0, ''),\n",
       "  Text(0, 0, ''),\n",
       "  Text(0, 0, '')])"
      ]
    
}
