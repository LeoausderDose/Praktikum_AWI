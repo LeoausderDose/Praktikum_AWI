{
 "cells": [
  {
   "cell_type": "markdown",
   "metadata": {},
   "source": [
    "# Binned data"
   ]
  },
  {
   "cell_type": "code",
   "execution_count": 13,
   "metadata": {},
   "outputs": [],
   "source": [
    "import pandas as pd\n",
    "import matplotlib.pyplot as plt\n"
   ]
  },
  {
   "cell_type": "code",
   "execution_count": 19,
   "metadata": {},
   "outputs": [],
   "source": [
    "custom_rc_params_small = {\n",
    "    'figure.figsize': (17/ 2.54, 10/ 2.54),  # Width x Height in centimeters\n",
    "    'font.size': 12,  # Font size\n",
    "    # You can add more custom parameters here if needed\n",
    "}\n",
    "\n",
    "plt.rcParams.update(custom_rc_params_small)"
   ]
  },
  {
   "cell_type": "code",
   "execution_count": 20,
   "metadata": {},
   "outputs": [],
   "source": [
    "df_GVN = pd.read_csv('BinnedData_GVN.csv')\n",
    "df_AWIPEV = pd.read_csv('BinnedData_Spitzbergen.csv')"
   ]
  },
  {
   "cell_type": "code",
   "execution_count": 21,
   "metadata": {},
   "outputs": [],
   "source": [
    "# fig, ax = plt.figure(figsize=(6,4), frameon= False)\n",
    "\n",
    "# frameon = False\n",
    "# # Print or use means_df as needed\n",
    "# plt.plot( df_AWIPEV['TAvg_bin'], df_AWIPEV['DTR'], marker = '*', ls = '', color = 'black')\n",
    "# plt.plot(df_GVN['TAvg_bin'], df_GVN['DTR'], marker = '.', ls = '', color = 'black')\n",
    "\n",
    "# plt.xlim(-20,10)\n",
    "# plt.ylim(2,9)\n",
    "\n",
    "# plt.xlabel('Average temperature [°C]')\n",
    "# plt.ylabel('DTR [°C]')\n",
    "\n",
    "# ax.spines['top'].set_visible(False)\n",
    "# ax.spines['right'].set_visible(False)\n",
    "# ax.spines['bottom'].set_visible(False)\n",
    "# ax.spines['left'].set_visible(False)\n",
    "# #plt.grid()\n",
    "\n",
    "# plt.tight_layout()\n",
    "# plt.show()\n",
    "# #plt.savefig('SB_DTR_binning.png', dpi = 300)"
   ]
  },
  {
   "cell_type": "code",
   "execution_count": 24,
   "metadata": {},
   "outputs": [
    {
     "data": {
      "image/png": "[encoded data removed]",
      "text/plain": [
       "<Figure size 481.89x283.465 with 1 Axes>"
      ]
     },
     "metadata": {
      "needs_background": "light"
     },
     "output_type": "display_data"
    }
   ],
   "source": [
    "# Create a figure and axis\n",
    "fig, ax = plt.subplots()\n",
    "\n",
    "# Plot the data\n",
    "plt.plot(df_AWIPEV['TAvg_bin'], df_AWIPEV['DTR'], marker='x', ls='', color='black', label='AWIPEV')\n",
    "plt.plot(df_GVN['TAvg_bin'], df_GVN['DTR'], marker='.', ls='', color='black', label='GVN')\n",
    "\n",
    "# Set the x and y limits\n",
    "plt.xlim(-20, 10)\n",
    "plt.ylim(2, 9)\n",
    "\n",
    "# Set labels for x and y axes\n",
    "plt.xlabel('Average temperature [°C]')\n",
    "plt.ylabel('DTR [°C]')\n",
    "\n",
    "# Remove the top and right spines\n",
    "ax.spines['top'].set_visible(False)\n",
    "ax.spines['right'].set_visible(False)\n",
    "ax.spines['bottom'].set_visible(False)\n",
    "ax.spines['left'].set_visible(False)\n",
    "\n",
    "# Add a legend\n",
    "plt.legend(loc = 3)\n",
    "\n",
    "# Display the plot\n",
    "plt.tight_layout()\n",
    "\n",
    "\n",
    "plt.savefig('SB_DTR_binning.pdf')\n",
    "plt.show()\n"
   ]
  }
 ],
 "metadata": {
  "kernelspec": {
   "display_name": "Python 3",
   "language": "python",
   "name": "python3"
  },
  "language_info": {
   "codemirror_mode": {
    "name": "ipython",
    "version": 3
   },
   "file_extension": ".py",
   "mimetype": "text/x-python",
   "name": "python",
   "nbconvert_exporter": "python",
   "pygments_lexer": "ipython3",
   "version": "3.10.3"
  },
  "orig_nbformat": 4
 },
 "nbformat": 4,
 "nbformat_minor": 2
}
