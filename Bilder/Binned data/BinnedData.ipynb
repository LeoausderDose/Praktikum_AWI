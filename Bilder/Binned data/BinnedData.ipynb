{
 "cells": [
  {
   "cell_type": "markdown",
   "metadata": {},
   "source": [
    "# Binned data"
   ]
  },
  {
   "cell_type": "code",
   "execution_count": 1,
   "metadata": {},
   "outputs": [],
   "source": [
    "import pandas as pd\n",
    "import matplotlib.pyplot as plt\n"
   ]
  },
  {
   "cell_type": "code",
   "execution_count": 2,
   "metadata": {},
   "outputs": [],
   "source": [
    "custom_rc_params_small = {\n",
    "    'figure.figsize': (17/ 2.54, 10/ 2.54),  # Width x Height in centimeters\n",
    "    'font.size': 12,  # Font size\n",
    "    # You can add more custom parameters here if needed\n",
    "}\n",
    "\n",
    "plt.rcParams.update(custom_rc_params_small)"
   ]
  },
  {
   "cell_type": "code",
   "execution_count": 3,
   "metadata": {},
   "outputs": [],
   "source": [
    "df_GVN = pd.read_csv('BinnedData_GVN.csv')\n",
    "df_AWIPEV = pd.read_csv('BinnedData_Spitzbergen.csv')"
   ]
  },
  {
   "cell_type": "code",
   "execution_count": 13,
   "metadata": {},
   "outputs": [],
   "source": [
    "mask = (df_AWIPEV['TAvg_bin'] > -20) & (df_AWIPEV['TAvg_bin'] < 11)\n",
    "mask2 = (df_GVN['TAvg_bin'] > -20) & (df_GVN['TAvg_bin'] < 11)"
   ]
  },
  {
   "cell_type": "code",
   "execution_count": 19,
   "metadata": {},
   "outputs": [
    {
     "data": {
      "image/png": "[encoded data removed]",
      "text/plain": [
       "<Figure size 481.89x283.465 with 1 Axes>"
      ]
     },
     "metadata": {
      "needs_background": "light"
     },
     "output_type": "display_data"
    }
   ],
   "source": [
    "# Create a figure and axis\n",
    "fig, ax = plt.subplots()\n",
    "\n",
    "# Plot the data\n",
    "plt.plot(df_AWIPEV['TAvg_bin'][mask], df_AWIPEV['DTR'][mask], marker='x', ls='', color='black', label='AWIPEV')\n",
    "plt.plot(df_GVN['TAvg_bin'][mask2], df_GVN['DTR'][mask2], marker='.', ls='', color='black', label='GVN')\n",
    "\n",
    "# Set the x and y limits\n",
    "#plt.xlim(-20, 10)\n",
    "plt.ylim(2, 9)\n",
    "\n",
    "# Set labels for x and y axes\n",
    "plt.xlabel('average temperature [°C]')\n",
    "plt.ylabel('DTR [°C]')\n",
    "\n",
    "# Remove the top and right spines\n",
    "ax.spines['top'].set_visible(False)\n",
    "ax.spines['right'].set_visible(False)\n",
    "ax.spines['bottom'].set_visible(False)\n",
    "ax.spines['left'].set_visible(False)\n",
    "\n",
    "# Add a legend\n",
    "plt.legend(loc = 3, frameon = False)\n",
    "\n",
    "# Display the plot\n",
    "plt.tight_layout()\n",
    "\n",
    "\n",
    "plt.savefig('SB_DTR_binning.pdf')\n",
    "plt.show()\n"
   ]
  }
 ],
 "metadata": {
  "kernelspec": {
   "display_name": "Python 3",
   "language": "python",
   "name": "python3"
  },
  "language_info": {
   "codemirror_mode": {
    "name": "ipython",
    "version": 3
   },
   "file_extension": ".py",
   "mimetype": "text/x-python",
   "name": "python",
   "nbconvert_exporter": "python",
   "pygments_lexer": "ipython3",
   "version": "3.10.3"
  },
  "orig_nbformat": 4
 },
 "nbformat": 4,
 "nbformat_minor": 2
}
