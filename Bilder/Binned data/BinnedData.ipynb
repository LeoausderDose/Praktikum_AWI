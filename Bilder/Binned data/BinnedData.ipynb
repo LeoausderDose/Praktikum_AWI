{
 "cells": [
  {
   "cell_type": "markdown",
   "metadata": {},
   "source": [
    "# Binned data"
   ]
  },
  {
   "cell_type": "code",
   "execution_count": 2,
   "metadata": {},
   "outputs": [],
   "source": [
    "import pandas as pd\n",
    "import matplotlib.pyplot as plt\n"
   ]
  },
  {
   "cell_type": "code",
   "execution_count": 5,
   "metadata": {},
   "outputs": [],
   "source": [
    "df_GVN = pd.read_csv('BinnedData_GVN.csv')\n",
    "df_AWIPEV = pd.read_csv('BinnedData_Spitzbergen.csv')"
   ]
  },
  {
   "cell_type": "code",
   "execution_count": 20,
   "metadata": {},
   "outputs": [
    {
     "ename": "TypeError",
     "evalue": "cannot unpack non-iterable Figure object",
     "output_type": "error",
     "traceback": [
      "\u001b[1;31m---------------------------------------------------------------------------\u001b[0m",
      "\u001b[1;31mTypeError\u001b[0m                                 Traceback (most recent call last)",
      "\u001b[1;32mc:\\Users\\leonh\\Desktop\\Praktikum_AWI\\Bilder\\Binned data\\BinnedData.ipynb Cell 4\u001b[0m line \u001b[0;36m<cell line: 1>\u001b[1;34m()\u001b[0m\n\u001b[1;32m----> <a href='vscode-notebook-cell:/c%3A/Users/leonh/Desktop/Praktikum_AWI/Bilder/Binned%20data/BinnedData.ipynb#W1sZmlsZQ%3D%3D?line=0'>1</a>\u001b[0m fig, ax \u001b[39m=\u001b[39m plt\u001b[39m.\u001b[39mfigure(figsize\u001b[39m=\u001b[39m(\u001b[39m6\u001b[39m,\u001b[39m4\u001b[39m), frameon\u001b[39m=\u001b[39m \u001b[39mFalse\u001b[39;00m)\n\u001b[0;32m      <a href='vscode-notebook-cell:/c%3A/Users/leonh/Desktop/Praktikum_AWI/Bilder/Binned%20data/BinnedData.ipynb#W1sZmlsZQ%3D%3D?line=2'>3</a>\u001b[0m frameon \u001b[39m=\u001b[39m \u001b[39mFalse\u001b[39;00m\n\u001b[0;32m      <a href='vscode-notebook-cell:/c%3A/Users/leonh/Desktop/Praktikum_AWI/Bilder/Binned%20data/BinnedData.ipynb#W1sZmlsZQ%3D%3D?line=3'>4</a>\u001b[0m \u001b[39m# Print or use means_df as needed\u001b[39;00m\n",
      "\u001b[1;31mTypeError\u001b[0m: cannot unpack non-iterable Figure object"
     ]
    },
    {
     "data": {
      "text/plain": [
       "<Figure size 432x288 with 0 Axes>"
      ]
     },
     "metadata": {},
     "output_type": "display_data"
    }
   ],
   "source": [
    "fig, ax = plt.figure(figsize=(6,4), frameon= False)\n",
    "\n",
    "frameon = False\n",
    "# Print or use means_df as needed\n",
    "plt.plot( df_AWIPEV['TAvg_bin'], df_AWIPEV['DTR'], marker = '*', ls = '', color = 'black')\n",
    "plt.plot(df_GVN['TAvg_bin'], df_GVN['DTR'], marker = '.', ls = '', color = 'black')\n",
    "\n",
    "plt.xlim(-20,10)\n",
    "plt.ylim(2,9)\n",
    "\n",
    "plt.xlabel('Average temperature [°C]')\n",
    "plt.ylabel('DTR [°C]')\n",
    "\n",
    "ax.spines['top'].set_visible(False)\n",
    "ax.spines['right'].set_visible(False)\n",
    "ax.spines['bottom'].set_visible(False)\n",
    "ax.spines['left'].set_visible(False)\n",
    "#plt.grid()\n",
    "\n",
    "plt.tight_layout()\n",
    "plt.show()\n",
    "#plt.savefig('SB_DTR_binning.png', dpi = 300)"
   ]
  },
  {
   "cell_type": "code",
   "execution_count": 29,
   "metadata": {},
   "outputs": [
    {
     "data": {
      "image/png": "[encoded data removed]",
      "text/plain": [
       "<Figure size 432x288 with 1 Axes>"
      ]
     },
     "metadata": {
      "needs_background": "light"
     },
     "output_type": "display_data"
    }
   ],
   "source": [
    "# Create a figure and axis\n",
    "fig, ax = plt.subplots(figsize=(6, 4))\n",
    "\n",
    "# Plot the data\n",
    "plt.plot(df_AWIPEV['TAvg_bin'], df_AWIPEV['DTR'], marker='x', ls='', color='black', label='AWIPEV')\n",
    "plt.plot(df_GVN['TAvg_bin'], df_GVN['DTR'], marker='.', ls='', color='black', label='GVN')\n",
    "\n",
    "# Set the x and y limits\n",
    "plt.xlim(-20, 10)\n",
    "plt.ylim(2, 9)\n",
    "\n",
    "# Set labels for x and y axes\n",
    "plt.xlabel('Average temperature [°C]')\n",
    "plt.ylabel('DTR [°C]')\n",
    "\n",
    "# Remove the top and right spines\n",
    "ax.spines['top'].set_visible(False)\n",
    "ax.spines['right'].set_visible(False)\n",
    "ax.spines['bottom'].set_visible(False)\n",
    "ax.spines['left'].set_visible(False)\n",
    "\n",
    "# Add a legend\n",
    "plt.legend(loc = 3)\n",
    "\n",
    "# Display the plot\n",
    "plt.tight_layout()\n",
    "plt.show()\n"
   ]
  }
 ],
 "metadata": {
  "kernelspec": {
   "display_name": "Python 3",
   "language": "python",
   "name": "python3"
  },
  "language_info": {
   "codemirror_mode": {
    "name": "ipython",
    "version": 3
   },
   "file_extension": ".py",
   "mimetype": "text/x-python",
   "name": "python",
   "nbconvert_exporter": "python",
   "pygments_lexer": "ipython3",
   "version": "3.10.3"
  },
  "orig_nbformat": 4
 },
 "nbformat": 4,
 "nbformat_minor": 2
}
