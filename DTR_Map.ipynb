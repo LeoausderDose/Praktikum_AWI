{
 "cells": [
  {
   "cell_type": "markdown",
   "metadata": {},
   "source": [
    "# Importiere Daten\n"
   ]
  },
  {
   "cell_type": "code",
   "execution_count": 11,
   "metadata": {},
   "outputs": [],
   "source": [
    "import numpy as np\n",
    "import pandas as pd\n",
    "import geopandas as gp\n",
    "import xarray as xr\n",
    "import datetime\n",
    "from matplotlib import pyplot as plt\n",
    "from scipy.optimize import curve_fit\n",
    "import os as os"
   ]
  },
  {
   "cell_type": "markdown",
   "metadata": {},
   "source": [
    "## Funktionen definieren"
   ]
  },
  {
   "cell_type": "code",
   "execution_count": 12,
   "metadata": {},
   "outputs": [],
   "source": [
    "def select_every_12th_with_start(arr, start_index):\n",
    "    if start_index < 1 or start_index > 12:\n",
    "        raise ValueError(\"Start index must be between 1 and 11\")\n",
    "\n",
    "    selected_elements = []\n",
    "    for i in range(start_index - 1, len(arr), 12):\n",
    "        selected_elements.append(arr[i])\n",
    "    \n",
    "    return selected_elements\n",
    "\n",
    "def linear_reg(x, m, t):\n",
    "    return m*x + t\n",
    "\n",
    "def generate_counting_array(length):\n",
    "    return np.arange(length)\n",
    "\n",
    "    \n",
    "def selecting_month(arr, start_index, start_date, end_date):\n",
    "    if start_index < 1 or start_index > 12:\n",
    "        raise ValueError(\"Start index must be between 1 and 12\")  # Change 11 to 12\n",
    "\n",
    "    selected_elements = []\n",
    "    for i in range(start_index - 1, len(arr), 12):\n",
    "        selected_elements.append(arr[i])\n",
    "\n",
    "    tmp = xr.concat(selected_elements, dim=\"time\")  # Concatenate the selected elements\n",
    "    tmp = tmp.sel(time=slice(start_date, end_date))\n",
    "    \n",
    "    return tmp\n",
    "\n",
    "\n",
    "def fit_count(arr):\n",
    "    return generate_counting_array(len(arr))\n",
    "\n",
    "\n",
    "\n",
    "def selecting_tf(arr,start_time, end_time):\n",
    "    return arr.sel(time = slice(start_time, end_time))\n",
    "\n",
    "def LinReg_All_Month(arr, time_start_displayed, time_start_fit, time_end, Name, Ordnername):\n",
    "    # Create an empty DataFrame\n",
    "    columns = ['month', 'slope', 'offset', 'var']\n",
    "    parameters_df = pd.DataFrame(columns=columns)\n",
    "\n",
    "    # Set 'month' as the index\n",
    "    parameters_df.set_index('month', inplace=True)\n",
    "\n",
    "    for month in range(1,13):\n",
    "        # Select data\n",
    "\n",
    "        y_data = selecting_month(arr,month, time_start_displayed, time_end)\n",
    "\n",
    "        #Selecting fitting data\n",
    "        y_temp = selecting_tf(y_data, time_start_fit, time_end)\n",
    "        x_temp = fit_count(y_temp)\n",
    "\n",
    "        #Fitting\n",
    "        par_LinReg, cov_LinReg = curve_fit(linear_reg, x_temp ,y_temp)\n",
    "\n",
    "        #Producing fitting output\n",
    "        y_fit = linear_reg(x_temp, *par_LinReg)\n",
    "        x_fit = y_temp['time'].values\n",
    "\n",
    "\n",
    "        plt.plot(y_temp['time'].values, y_temp)\n",
    "        plt.plot(y_data['time'].values, y_data, marker = 'x', ls = '', label = 'data')\n",
    "        plt.plot(x_fit, y_fit, alpha = .5, label = 'LinReg')\n",
    "\n",
    "        #Calculating Varriance\n",
    "\n",
    "        VarDeltaT = np.var(y_temp-y_fit)\n",
    "\n",
    "        #Adding to df\n",
    "        new_entry = {'slope': par_LinReg[0]*50, 'offset': par_LinReg[1], 'var': VarDeltaT.values}\n",
    "        parameters_df.loc[str(month)] = new_entry\n",
    "\n",
    "\n",
    "        plt.xlabel('time')\n",
    "        plt.ylabel('DTR')\n",
    "\n",
    "        plt.title(Name + 'entire pol. reg. in month ' + str(month))\n",
    "\n",
    "        plt.xlim(time_values[800], time_values[-1])\n",
    "        plt.legend()\n",
    "        # Add a subtle background color\n",
    "        plt.gca().set_facecolor((0.95, 0.95, 0.95))\n",
    "\n",
    "        # Display the plot\n",
    "        plt.tight_layout()\n",
    "\n",
    "        if not os.path.exists(name_region + name_breitengrad + Ordnername):\n",
    "            os.mkdir(name_region + name_breitengrad + Ordnername)\n",
    "        plt.savefig(name_region + name_breitengrad + Ordnername +Name+'_Month_'+ str(month)+'.png', dpi = 300)\n",
    "        plt.clf()\n",
    "    return parameters_df\n",
    "\n",
    "def LinReg_Month(arr, time_start_displayed, time_start_fit, time_end, month):\n",
    "\n",
    "\n",
    "    y_data = selecting_month(arr,month, time_start_displayed, time_end)\n",
    "\n",
    "    #Selecting fitting data\n",
    "    y_temp = selecting_tf(y_data, time_start_fit, time_end)\n",
    "    x_temp = fit_count(y_temp)\n",
    "\n",
    "    #Fitting\n",
    "    par_LinReg, cov_LinReg = curve_fit(linear_reg, x_temp ,y_temp)\n",
    "\n",
    "    \n",
    "    \n",
    "\n",
    "    #Calculating Varriance\n",
    "\n",
    "    VarDeltaT = np.var(y_temp-y_fit)\n",
    "\n",
    "    return par_LinReg, VardeltaT\n",
    "\n",
    "\n",
    "def generate_cosine_weight(angles):\n",
    "    temp = np.cos(np.radians(angles))\n",
    "    cosine_values = temp/np.sum(temp)\n",
    "    return cosine_values"
   ]
  },
  {
   "cell_type": "markdown",
   "metadata": {},
   "source": [
    "### Gewichtung der Daten"
   ]
  },
  {
   "cell_type": "code",
   "execution_count": 13,
   "metadata": {},
   "outputs": [],
   "source": [
    "def weigth(arr):\n",
    "    return np.multiply(generate_cosine_weight(arr['lat'].values), arr)\n",
    "\n",
    "def TMax_selection(grad_min, grad_max):\n",
    "    selected_data = TMax_Lat.sel(lat=slice(grad_min, grad_max)).tmx\n",
    "    \n",
    "    if np.isnan(selected_data).any():\n",
    "        print('There is a Nan-Entry in your Max data selected!')\n",
    "        return None\n",
    "    else:\n",
    "        weights = generate_cosine_weight(selected_data['lat'].values)\n",
    "        result = np.dot(selected_data, weights)\n",
    "        result_data_array = xr.DataArray(result, coords={'time': selected_data['time']}, dims=['time'])\n",
    "        return result_data_array\n",
    "\n",
    "def TMin_selection(grad_min, grad_max):\n",
    "    selected_data = TMin_Lat.sel(lat=slice(grad_min, grad_max))\n",
    "    \n",
    "    if np.isnan(selected_data.tmn).any():\n",
    "        print('There is a Nan-Entry in your Min data selected!')\n",
    "        return None\n",
    "    else:\n",
    "        weights = generate_cosine_weight(selected_data['lat'].values)\n",
    "        result = np.dot(selected_data.tmn, weights)\n",
    "        result_data_array = xr.DataArray(result, coords={'time': selected_data['time']}, dims=['time'])\n",
    "        return result_data_array\n",
    "\n",
    "def temperature_diff_selection(grad_min, grad_max):\n",
    "    tmax_result = TMax_selection(grad_min, grad_max)\n",
    "    tmin_result = TMin_selection(grad_min, grad_max)\n",
    "    \n",
    "    if tmax_result is not None and tmin_result is not None:\n",
    "        return tmax_result - tmin_result\n",
    "    else:\n",
    "        return None\n"
   ]
  },
  {
   "cell_type": "markdown",
   "metadata": {},
   "source": [
    "## Speicherorte verwalten"
   ]
  },
  {
   "cell_type": "markdown",
   "metadata": {},
   "source": [
    "## Daten importieren"
   ]
  },
  {
   "cell_type": "code",
   "execution_count": 14,
   "metadata": {},
   "outputs": [],
   "source": [
    "# File paths\n",
    "TMin_file = 'data/cru_ts4.07.1901.2022.tmn.dat.nc/cru_ts4.07.1901.2022.tmn.dat.nc'\n",
    "TMax_file = 'data/cru_ts4.07.1901.2022.tmx.dat.nc/cru_ts4.07.1901.2022.tmx.dat.nc'\n",
    "TAvg_file = 'data\\cru_ts4.07.1901.2022.tmp.dat.nc\\cru_ts4.07.1901.2022.tmp.dat.nc'\n",
    "\n",
    "# Load datasets\n",
    "TMin = xr.open_dataset(TMin_file)\n",
    "TMax = xr.open_dataset(TMax_file)\n",
    "TAvg =  xr.open_dataset(TAvg_file)"
   ]
  },
  {
   "cell_type": "markdown",
   "metadata": {},
   "source": [
    "## Differenz berechnen"
   ]
  },
  {
   "cell_type": "code",
   "execution_count": 15,
   "metadata": {},
   "outputs": [],
   "source": [
    "time_values = TMax['time'].values\n",
    "lon_values = TMax['lon'].values\n",
    "lat_values = TMax['lat'].values\n",
    "\n",
    "#Graphischen Layout\n",
    "colors = ['red', 'orange', 'yellow', 'green', 'cyan', 'blue', 'purple', 'magenta', 'pink', 'brown', 'olive', 'gray']\n",
    "month_label = ['January', 'February', 'March', 'April', 'May', 'June', 'July', 'August', 'September', 'October', 'November', 'December']"
   ]
  },
  {
   "cell_type": "code",
   "execution_count": 16,
   "metadata": {},
   "outputs": [],
   "source": [
    "temperature_difference = TMax.tmx - TMin.tmn   # Normale Differenz fü jeden Punkt\n"
   ]
  },
  {
   "cell_type": "markdown",
   "metadata": {},
   "source": [
    "## Plots"
   ]
  },
  {
   "cell_type": "code",
   "execution_count": 17,
   "metadata": {},
   "outputs": [],
   "source": [
    "\n",
    "name_region = 'NordPolGroenRechts/'\n",
    "\n",
    "if not os.path.exists(name_region):\n",
    "    os.mkdir(name_region)\n",
    "# Zu betrachtender Bereich \n",
    "    #Zeit\n",
    "t_s_d = '1901-01-15T00:00:00.000000000'\n",
    "t_s_f = '1973-01-15T00:00:00.000000000'  #Time to start fitting\n",
    "t_e = time_values[-1]\n",
    "    #Ort\n",
    "lon_min = 80\n",
    "lon_max = 82\n",
    "\n",
    "name_breitengrad = 'Lon_'+str(lon_min)+'_'+str(lon_max)+'/'\n",
    "if not os.path.exists(name_region+name_breitengrad):\n",
    "    os.mkdir(name_region+name_breitengrad)\n"
   ]
  },
  {
   "cell_type": "markdown",
   "metadata": {},
   "source": [
    "Generate Data Frame for the fit values\n"
   ]
  },
  {
   "cell_type": "code",
   "execution_count": 27,
   "metadata": {},
   "outputs": [
    {
     "name": "stdout",
     "output_type": "stream",
     "text": [
      "(360, 720)\n"
     ]
    }
   ],
   "source": [
    "# Define the dimensions and coordinate values\n",
    "data_array = np.full((len(lat_values), len(lon_values)), np.nan)\n",
    "\n",
    "# Create the DataArray with coordinates\n",
    "da = xr.DataArray(\n",
    "    data_array,\n",
    "    dims=[\"y\", \"x\"],  # Order of dimensions matters!\n",
    "    coords={\"x\": lon_values, \"y\": lat_values},\n",
    ")"
   ]
  },
  {
   "cell_type": "markdown",
   "metadata": {},
   "source": [
    "Fitting the array"
   ]
  },
  {
   "cell_type": "code",
   "execution_count": null,
   "metadata": {},
   "outputs": [],
   "source": [
    "f"
   ]
  },
  {
   "cell_type": "code",
   "execution_count": 26,
   "metadata": {},
   "outputs": [],
   "source": [
    "\n",
    "# parameters_TDiff = LinReg_All_Month(temperature_diff_selection(lon_min, lon_max), t_s_d, t_s_f, t_e, 'DTR', 'DTR/')\n",
    "\n",
    "\n",
    "# parameters_TMax = LinReg_All_Month(TMax_selection(lon_min,lon_max), t_s_d, t_s_f, t_e, 'TMax','TMax/')\n",
    "# parameters_TMin = LinReg_All_Month(TMin_selection(lon_min,lon_max), t_s_d, t_s_f, t_e, 'TMin', 'TMin/')"
   ]
  },
  {
   "cell_type": "code",
   "execution_count": null,
   "metadata": {},
   "outputs": [],
   "source": [
    "parameters_TDiff['SNR'] =np.abs(parameters_TDiff['slope']/parameters_TDiff['var'])\n",
    "parameters_TMax['SNR'] = np.abs(parameters_TMax['slope']/parameters_TMax['var'])\n",
    "parameters_TMin['SNR'] = np.abs(parameters_TMin['slope']/parameters_TMin['var'])"
   ]
  },
  {
   "cell_type": "markdown",
   "metadata": {},
   "source": [
    "### Plots Fitting"
   ]
  },
  {
   "cell_type": "markdown",
   "metadata": {},
   "source": [
    "### Hearmap"
   ]
  },
  {
   "cell_type": "code",
   "execution_count": null,
   "metadata": {},
   "outputs": [
    {
     "data": {
      "image/png": "[encoded data removed]",
      "text/plain": [
       "<Figure size 432x288 with 2 Axes>"
      ]
     },
     "metadata": {
      "needs_background": "light"
     },
     "output_type": "display_data"
    }
   ],
   "source": [
    "time_index = 1\n",
    "temperature_data = TMin.isel(time=time_index).tmn#,lon = range(0,260), lat = range(330,360)).tmn\n",
    "\n",
    "plt.imshow(temperature_data, cmap='bwr', origin='lower', aspect='auto')\n",
    "plt.colorbar(label='Temperature')\n",
    "plt.title(f'Temperature Heatmap at Time Index {time_index}')\n",
    "plt.xlabel('Longitude Index')\n",
    "plt.ylabel('Lat')\n",
    "plt.show()"
   ]
  },
  {
   "cell_type": "code",
   "execution_count": null,
   "metadata": {},
   "outputs": [
    {
     "data": {
      "image/png": "[encoded data removed]",
      "text/plain": [
       "<Figure size 432x288 with 2 Axes>"
      ]
     },
     "metadata": {},
     "output_type": "display_data"
    }
   ],
   "source": [
    "time_index = '2021-01-16T00:00:00.000000000'\n",
    "temperature_data = False == np.isnan(TMin.sel(time=time_index, lat=slice(60, 82)).tmn)\n",
    "\n",
    "plt.imshow(temperature_data, cmap='bwr', origin='lower', aspect='auto')\n",
    "plt.colorbar(label='Data')\n",
    "plt.title('Data coverage')\n",
    "\n",
    "# Get the latitudes for the y-axis\n",
    "latitudes = TMin.sel(time=time_index, lat=slice(60, 90)).lat.values\n",
    "longitude = TMin.sel(time=time_index, lat=slice(60, 90)).lon.values\n",
    "\n",
    "# Set the y ticks using the latitudes\n",
    "plt.yticks(range(len(latitudes))[::5], latitudes[::5])\n",
    "plt.xticks(range(len(longitude))[::100], longitude[::100])\n",
    "\n",
    "plt.xlabel('Longitude Index')\n",
    "plt.ylabel('Latitude')\n",
    "#plt.savefig('datacoverage.pdf', dpi = 300)\n",
    "plt.show()\n"
   ]
  }
 ],
 "metadata": {
  "kernelspec": {
   "display_name": "Python 3",
   "language": "python",
   "name": "python3"
  },
  "language_info": {
   "codemirror_mode": {
    "name": "ipython",
    "version": 3
   },
   "file_extension": ".py",
   "mimetype": "text/x-python",
   "name": "python",
   "nbconvert_exporter": "python",
   "pygments_lexer": "ipython3",
   "version": "3.10.3"
  },
  "orig_nbformat": 4
 },
 "nbformat": 4,
 "nbformat_minor": 2
}
