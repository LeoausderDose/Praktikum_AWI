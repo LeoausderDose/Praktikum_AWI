{
 "cells": [
  {
   "cell_type": "code",
   "execution_count": 5,
   "metadata": {},
   "outputs": [
    {
     "name": "stdout",
     "output_type": "stream",
     "text": [
      "<xarray.DataArray (x: 3, y: 3)>\n",
      "array([[10, 20, 30],\n",
      "       [40, 50, 60],\n",
      "       [70, 80, 90]])\n",
      "Dimensions without coordinates: x, y\n",
      "<xarray.DataArray (x: 3, y: 1)>\n",
      "array([[30],\n",
      "       [60],\n",
      "       [90]])\n",
      "Dimensions without coordinates: x, y\n"
     ]
    }
   ],
   "source": [
    "import xarray as xr\n",
    "\n",
    "# Create a sample DataArray\n",
    "data = xr.DataArray(\n",
    "    [[10, 20, 30],\n",
    "     [40, 50, 60],\n",
    "     [70, 80, 90]],\n",
    "    dims=(\"x\", \"y\")\n",
    ")\n",
    "print(data)\n",
    "# Select values along the 'x' dimension between 5 and 90\n",
    "selected_data = data.sel(y=slice(2, 91))\n",
    "print(selected_data)"
   ]
  }
 ],
 "metadata": {
  "kernelspec": {
   "display_name": "Python 3",
   "language": "python",
   "name": "python3"
  },
  "language_info": {
   "codemirror_mode": {
    "name": "ipython",
    "version": 3
   },
   "file_extension": ".py",
   "mimetype": "text/x-python",
   "name": "python",
   "nbconvert_exporter": "python",
   "pygments_lexer": "ipython3",
   "version": "3.10.3"
  },
  "orig_nbformat": 4
 },
 "nbformat": 4,
 "nbformat_minor": 2
}
